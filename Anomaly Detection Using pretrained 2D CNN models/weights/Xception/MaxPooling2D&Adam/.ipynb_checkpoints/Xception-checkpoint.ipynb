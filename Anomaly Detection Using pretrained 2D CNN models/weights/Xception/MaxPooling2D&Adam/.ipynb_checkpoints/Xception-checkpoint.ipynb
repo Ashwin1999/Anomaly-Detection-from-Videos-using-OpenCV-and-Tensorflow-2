{
 "cells": [
  {
   "cell_type": "code",
   "execution_count": 1,
   "metadata": {
    "colab": {
     "base_uri": "https://localhost:8080/",
     "height": 34
    },
    "id": "tAb77yZ9fzMG",
    "outputId": "5038b8a4-bf46-474e-ed17-cdbd755f7926"
   },
   "outputs": [
    {
     "name": "stdout",
     "output_type": "stream",
     "text": [
      "/device:GPU:0\n"
     ]
    }
   ],
   "source": [
    "import tensorflow as tf\n",
    "\n",
    "device_name = tf.test.gpu_device_name()\n",
    "print(device_name)\n",
    "\n",
    "import pickle\n",
    "from sklearn.preprocessing import LabelBinarizer\n",
    "from sklearn.model_selection import train_test_split\n",
    "from sklearn.metrics import classification_report, confusion_matrix\n",
    "\n",
    "import numpy as np\n",
    "import pandas as pd\n",
    "import matplotlib.pyplot as plt\n",
    "\n",
    "from tensorflow.keras.preprocessing.image import ImageDataGenerator\n",
    "from tensorflow.keras.layers import MaxPooling2D\n",
    "\n",
    "from tensorflow.keras.applications import Xception\n",
    "\n",
    "from tensorflow.keras.layers import Dropout\n",
    "from tensorflow.keras.layers import Flatten\n",
    "from tensorflow.keras.layers import Dense\n",
    "from tensorflow.keras.layers import Input\n",
    "from tensorflow.keras.models import Model\n",
    "from tensorflow.keras.optimizers import Adam\n",
    "from tensorflow.keras.regularizers import l2\n",
    "\n",
    "import warnings\n",
    "warnings.filterwarnings('ignore')"
   ]
  },
  {
   "cell_type": "code",
   "execution_count": 2,
   "metadata": {
    "colab": {
     "base_uri": "https://localhost:8080/",
     "height": 34
    },
    "id": "UhPHulcLiS9w",
    "outputId": "cc901c16-109f-40b8-89ed-886802ea3398"
   },
   "outputs": [
    {
     "name": "stdout",
     "output_type": "stream",
     "text": [
      "Mounted at /content/drive\n"
     ]
    }
   ],
   "source": [
    "from google.colab import drive\n",
    "drive.mount('/content/drive')"
   ]
  },
  {
   "cell_type": "code",
   "execution_count": 3,
   "metadata": {
    "id": "Gg3civ_9iHEY"
   },
   "outputs": [],
   "source": [
    "dp = \"/content/drive/My Drive/Anomaly Detection/Version 2/pickled images and labels/batch1/resized1\"\n",
    "lp = \"/content/drive/My Drive/Anomaly Detection/Version 2/pickled images and labels/batch1/labels1\"\n",
    "\n",
    "data, labels = pickle.loads(open(dp, \"rb\").read()), pickle.loads(open(lp, \"rb\").read())"
   ]
  },
  {
   "cell_type": "code",
   "execution_count": 4,
   "metadata": {
    "id": "pafL7Li0jyXW"
   },
   "outputs": [],
   "source": [
    "le = LabelBinarizer()\n",
    "labels = le.fit_transform(labels)"
   ]
  },
  {
   "cell_type": "code",
   "execution_count": 5,
   "metadata": {
    "id": "lFXHmteyigdV"
   },
   "outputs": [],
   "source": [
    "(trainX, testX, trainY, testY) = train_test_split(data, labels, test_size=0.15, random_state=42, shuffle=True)"
   ]
  },
  {
   "cell_type": "code",
   "execution_count": 6,
   "metadata": {
    "id": "Vh2Q9pOfilg_"
   },
   "outputs": [],
   "source": [
    "trainAug = ImageDataGenerator(\n",
    "    rotation_range=20,\n",
    "    zoom_range=0.10,\n",
    "    shear_range=0.10,\n",
    "    horizontal_flip=True,\n",
    ")\n",
    "\n",
    "valAug = ImageDataGenerator()"
   ]
  },
  {
   "cell_type": "code",
   "execution_count": 7,
   "metadata": {
    "colab": {
     "base_uri": "https://localhost:8080/",
     "height": 50
    },
    "id": "rS0xu-wrimOz",
    "outputId": "c7e32e42-95e8-4bce-ea63-96467e4ce24f"
   },
   "outputs": [
    {
     "name": "stdout",
     "output_type": "stream",
     "text": [
      "Downloading data from https://storage.googleapis.com/tensorflow/keras-applications/xception/xception_weights_tf_dim_ordering_tf_kernels_notop.h5\n",
      "83689472/83683744 [==============================] - 1s 0us/step\n"
     ]
    }
   ],
   "source": [
    "baseModel = Xception(weights=\"imagenet\", include_top=False, input_tensor=Input(shape=(240, 320, 3)))\n",
    "\n",
    "headModel = baseModel.output\n",
    "\n",
    "headModel = MaxPooling2D(pool_size=(7, 7),)(headModel)\n",
    "\n",
    "headModel = Flatten(name=\"flatten\")(headModel)\n",
    "\n",
    "headModel = Dense(512, kernel_regularizer=l2(0.0001), activation=\"relu\")(headModel)\n",
    "headModel = Dropout(0.5)(headModel)\n",
    "\n",
    "headModel = Dense(1, activation=\"sigmoid\")(headModel)\n",
    "\n",
    "model = Model(inputs=baseModel.input, outputs=headModel)\n",
    "\n",
    "for layer in baseModel.layers:\n",
    "    layer.trainable = False"
   ]
  },
  {
   "cell_type": "code",
   "execution_count": 8,
   "metadata": {
    "colab": {
     "base_uri": "https://localhost:8080/",
     "height": 218
    },
    "id": "E01OZLx9iq6c",
    "outputId": "319391df-ded4-47ca-f9c7-2050cf10daca"
   },
   "outputs": [
    {
     "name": "stdout",
     "output_type": "stream",
     "text": [
      "[INFO] compiling model...\n",
      "[INFO] training head...\n",
      "Epoch 1/5\n",
      "76/76 [==============================] - 137s 2s/step - loss: 7.9159 - accuracy: 0.6672 - val_loss: 2.3454 - val_accuracy: 0.8029\n",
      "Epoch 2/5\n",
      "76/76 [==============================] - 137s 2s/step - loss: 2.8709 - accuracy: 0.7656 - val_loss: 1.1406 - val_accuracy: 0.8269\n",
      "Epoch 3/5\n",
      "76/76 [==============================] - 136s 2s/step - loss: 1.3781 - accuracy: 0.8173 - val_loss: 0.5691 - val_accuracy: 0.8486\n",
      "Epoch 4/5\n",
      "76/76 [==============================] - 138s 2s/step - loss: 0.8497 - accuracy: 0.8446 - val_loss: 0.3752 - val_accuracy: 0.9062\n",
      "Epoch 5/5\n",
      "76/76 [==============================] - 137s 2s/step - loss: 0.6256 - accuracy: 0.8530 - val_loss: 0.3245 - val_accuracy: 0.9255\n"
     ]
    }
   ],
   "source": [
    "BS = 128\n",
    "EPOCHS = 5\n",
    "\n",
    "print(\"[INFO] compiling model...\")\n",
    "opt = Adam(lr=0.0001)\n",
    "model.compile(loss=\"binary_crossentropy\", optimizer=opt, metrics=[\"accuracy\"])\n",
    "\n",
    "print(\"[INFO] training head...\")\n",
    "\n",
    "H = model.fit(\n",
    "    x=trainAug.flow(trainX, trainY, batch_size=BS),\n",
    "    steps_per_epoch=len(trainX) // BS,\n",
    "    validation_data=valAug.flow(testX, testY),\n",
    "    validation_steps=len(testX) // BS,\n",
    "    epochs=EPOCHS\n",
    ")"
   ]
  },
  {
   "cell_type": "code",
   "execution_count": 9,
   "metadata": {
    "id": "QwgX3nP8jArr"
   },
   "outputs": [],
   "source": [
    "name = 'model_weights.h5'\n",
    "\n",
    "model.save_weights(name)"
   ]
  },
  {
   "cell_type": "code",
   "execution_count": 10,
   "metadata": {
    "colab": {
     "base_uri": "https://localhost:8080/",
     "height": 295
    },
    "id": "e6mxQe65o5vN",
    "outputId": "f158b30e-c056-4de2-dae0-afc8e3dbb9d4"
   },
   "outputs": [
    {
     "data": {
      "image/png": "[encoded data removed]",
      "text/plain": [
       "<Figure size 432x288 with 1 Axes>"
      ]
     },
     "metadata": {
      "needs_background": "light",
      "tags": []
     },
     "output_type": "display_data"
    }
   ],
   "source": [
    "plt.plot(np.arange(0, EPOCHS), H.history[\"accuracy\"], label=\"train_acc\");\n",
    "plt.plot(np.arange(0, EPOCHS), H.history[\"val_accuracy\"], label=\"val_acc\");\n",
    "plt.title(\"Training Accuracy on Dataset\");\n",
    "plt.xlabel(\"Epoch #\");\n",
    "plt.ylabel(\"Accuracy\");"
   ]
  },
  {
   "cell_type": "code",
   "execution_count": 11,
   "metadata": {
    "colab": {
     "base_uri": "https://localhost:8080/",
     "height": 295
    },
    "id": "Cye2VBietzx3",
    "outputId": "9d83f96b-2f87-4d21-ee77-20e42d42b5b6"
   },
   "outputs": [
    {
     "data": {
      "image/png": "[encoded data removed]",
      "text/plain": [
       "<Figure size 432x288 with 1 Axes>"
      ]
     },
     "metadata": {
      "needs_background": "light",
      "tags": []
     },
     "output_type": "display_data"
    }
   ],
   "source": [
    "plt.plot(np.arange(0, EPOCHS), H.history[\"loss\"], label=\"train_loss\");\n",
    "plt.plot(np.arange(0, EPOCHS), H.history[\"val_loss\"], label=\"val_loss\");\n",
    "plt.title(\"Training Loss on Dataset\");\n",
    "plt.xlabel(\"Epoch #\");\n",
    "plt.ylabel(\"Loss\");"
   ]
  },
  {
   "cell_type": "code",
   "execution_count": 12,
   "metadata": {
    "id": "7E5vxUlNuK2t"
   },
   "outputs": [],
   "source": [
    "ypred = model.predict(testX)"
   ]
  },
  {
   "cell_type": "code",
   "execution_count": 13,
   "metadata": {
    "colab": {
     "base_uri": "https://localhost:8080/",
     "height": 269
    },
    "id": "2LX25cnR3Tcd",
    "outputId": "50e728c9-3ed4-469e-92bc-7385c0af896c"
   },
   "outputs": [
    {
     "name": "stdout",
     "output_type": "stream",
     "text": [
      "Classification Report:\n",
      "\n",
      "              precision    recall  f1-score   support\n",
      "\n",
      "           0       0.89      0.94      0.91       864\n",
      "           1       0.94      0.88      0.91       865\n",
      "\n",
      "    accuracy                           0.91      1729\n",
      "   macro avg       0.91      0.91      0.91      1729\n",
      "weighted avg       0.91      0.91      0.91      1729\n",
      "\n",
      "Confusion Matrix:\n",
      "\n",
      "[[814  50]\n",
      " [105 760]]\n"
     ]
    }
   ],
   "source": [
    "pred = []\n",
    "yp = ypred.reshape(1,-1)[0]\n",
    "thresh = 0.5\n",
    "for val in yp:\n",
    "  if val>thresh:\n",
    "    pred.append(1)\n",
    "  else:\n",
    "    pred.append(0)\n",
    "\n",
    "ypred = np.array(pred).reshape(-1,1)\n",
    "\n",
    "print('Classification Report:\\n')\n",
    "print(classification_report(testY,ypred))\n",
    "print('Confusion Matrix:\\n')\n",
    "print(confusion_matrix(testY,ypred))"
   ]
  }
 ],
 "metadata": {
  "accelerator": "GPU",
  "colab": {
   "collapsed_sections": [],
   "machine_shape": "hm",
   "name": "Xception.ipynb",
   "provenance": []
  },
  "kernelspec": {
   "display_name": "Python 3",
   "language": "python",
   "name": "python3"
  },
  "language_info": {
   "codemirror_mode": {
    "name": "ipython",
    "version": 3
   },
   "file_extension": ".py",
   "mimetype": "text/x-python",
   "name": "python",
   "nbconvert_exporter": "python",
   "pygments_lexer": "ipython3",
   "version": "3.7.9"
  }
 },
 "nbformat": 4,
 "nbformat_minor": 1
}
