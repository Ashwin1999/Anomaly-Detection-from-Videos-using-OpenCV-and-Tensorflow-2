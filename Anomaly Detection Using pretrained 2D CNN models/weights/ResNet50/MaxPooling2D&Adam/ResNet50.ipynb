{
 "cells": [
  {
   "cell_type": "code",
   "execution_count": 1,
   "metadata": {
    "colab": {
     "base_uri": "https://localhost:8080/",
     "height": 34
    },
    "id": "tAb77yZ9fzMG",
    "outputId": "900c740f-d821-4779-8000-bef62b609f33"
   },
   "outputs": [
    {
     "name": "stdout",
     "output_type": "stream",
     "text": [
      "/device:GPU:0\n"
     ]
    }
   ],
   "source": [
    "import tensorflow as tf\n",
    "\n",
    "device_name = tf.test.gpu_device_name()\n",
    "print(device_name)\n",
    "\n",
    "import pickle\n",
    "from sklearn.preprocessing import LabelBinarizer\n",
    "from sklearn.model_selection import train_test_split\n",
    "from sklearn.metrics import classification_report, confusion_matrix\n",
    "\n",
    "import numpy as np\n",
    "import pandas as pd\n",
    "import matplotlib.pyplot as plt\n",
    "\n",
    "from tensorflow.keras.preprocessing.image import ImageDataGenerator\n",
    "from tensorflow.keras.layers import MaxPooling2D\n",
    "\n",
    "from tensorflow.keras.applications import ResNet50\n",
    "\n",
    "from tensorflow.keras.layers import Dropout\n",
    "from tensorflow.keras.layers import Flatten\n",
    "from tensorflow.keras.layers import Dense\n",
    "from tensorflow.keras.layers import Input\n",
    "from tensorflow.keras.models import Model\n",
    "from tensorflow.keras.optimizers import Adam\n",
    "from tensorflow.keras.regularizers import l2\n",
    "\n",
    "import warnings\n",
    "warnings.filterwarnings('ignore')"
   ]
  },
  {
   "cell_type": "code",
   "execution_count": 2,
   "metadata": {
    "colab": {
     "base_uri": "https://localhost:8080/",
     "height": 34
    },
    "id": "UhPHulcLiS9w",
    "outputId": "df55f808-80b1-4e4d-b869-51b31454525f"
   },
   "outputs": [
    {
     "name": "stdout",
     "output_type": "stream",
     "text": [
      "Drive already mounted at /content/drive; to attempt to forcibly remount, call drive.mount(\"/content/drive\", force_remount=True).\n"
     ]
    }
   ],
   "source": [
    "from google.colab import drive\n",
    "drive.mount('/content/drive')"
   ]
  },
  {
   "cell_type": "code",
   "execution_count": 3,
   "metadata": {
    "id": "Gg3civ_9iHEY"
   },
   "outputs": [],
   "source": [
    "dp = \"/content/drive/My Drive/Anomaly Detection/Version 2/pickled images and labels/batch1/resized1\"\n",
    "lp = \"/content/drive/My Drive/Anomaly Detection/Version 2/pickled images and labels/batch1/labels1\"\n",
    "\n",
    "data, labels = pickle.loads(open(dp, \"rb\").read()), pickle.loads(open(lp, \"rb\").read())"
   ]
  },
  {
   "cell_type": "code",
   "execution_count": 4,
   "metadata": {
    "id": "pafL7Li0jyXW"
   },
   "outputs": [],
   "source": [
    "le = LabelBinarizer()\n",
    "labels = le.fit_transform(labels)"
   ]
  },
  {
   "cell_type": "code",
   "execution_count": 5,
   "metadata": {
    "id": "lFXHmteyigdV"
   },
   "outputs": [],
   "source": [
    "(trainX, testX, trainY, testY) = train_test_split(data, labels, test_size=0.15, random_state=42, shuffle=True)"
   ]
  },
  {
   "cell_type": "code",
   "execution_count": 6,
   "metadata": {
    "id": "Vh2Q9pOfilg_"
   },
   "outputs": [],
   "source": [
    "trainAug = ImageDataGenerator(\n",
    "    rotation_range=20,\n",
    "    zoom_range=0.10,\n",
    "    shear_range=0.10,\n",
    "    horizontal_flip=True,\n",
    ")\n",
    "\n",
    "valAug = ImageDataGenerator()"
   ]
  },
  {
   "cell_type": "code",
   "execution_count": 7,
   "metadata": {
    "id": "rS0xu-wrimOz"
   },
   "outputs": [],
   "source": [
    "baseModel = ResNet50(weights=\"imagenet\", include_top=False, input_tensor=Input(shape=(240, 320, 3)))\n",
    "\n",
    "headModel = baseModel.output\n",
    "\n",
    "headModel = MaxPooling2D(pool_size=(7, 7),)(headModel)\n",
    "\n",
    "headModel = Flatten(name=\"flatten\")(headModel)\n",
    "\n",
    "headModel = Dense(512, kernel_regularizer=l2(0.0001), activation=\"relu\")(headModel)\n",
    "headModel = Dropout(0.5)(headModel)\n",
    "\n",
    "headModel = Dense(1, activation=\"sigmoid\")(headModel)\n",
    "\n",
    "model = Model(inputs=baseModel.input, outputs=headModel)\n",
    "\n",
    "for layer in baseModel.layers:\n",
    "    layer.trainable = False"
   ]
  },
  {
   "cell_type": "code",
   "execution_count": 8,
   "metadata": {
    "colab": {
     "base_uri": "https://localhost:8080/",
     "height": 218
    },
    "id": "E01OZLx9iq6c",
    "outputId": "37b19d58-28be-438f-ab41-d9e4f94cac61"
   },
   "outputs": [
    {
     "name": "stdout",
     "output_type": "stream",
     "text": [
      "[INFO] compiling model...\n",
      "[INFO] training head...\n",
      "Epoch 1/5\n",
      "76/76 [==============================] - 133s 2s/step - loss: 1.0818 - accuracy: 0.8264 - val_loss: 0.2520 - val_accuracy: 0.9615\n",
      "Epoch 2/5\n",
      "76/76 [==============================] - 133s 2s/step - loss: 0.3096 - accuracy: 0.9394 - val_loss: 0.1042 - val_accuracy: 0.9880\n",
      "Epoch 3/5\n",
      "76/76 [==============================] - 132s 2s/step - loss: 0.2146 - accuracy: 0.9595 - val_loss: 0.0982 - val_accuracy: 0.9952\n",
      "Epoch 4/5\n",
      "76/76 [==============================] - 132s 2s/step - loss: 0.1746 - accuracy: 0.9688 - val_loss: 0.1107 - val_accuracy: 0.9952\n",
      "Epoch 5/5\n",
      "76/76 [==============================] - 132s 2s/step - loss: 0.1426 - accuracy: 0.9787 - val_loss: 0.1002 - val_accuracy: 0.9952\n"
     ]
    }
   ],
   "source": [
    "BS = 128\n",
    "EPOCHS = 5\n",
    "\n",
    "print(\"[INFO] compiling model...\")\n",
    "opt = Adam(lr=0.0001)\n",
    "model.compile(loss=\"binary_crossentropy\", optimizer=opt, metrics=[\"accuracy\"])\n",
    "\n",
    "print(\"[INFO] training head...\")\n",
    "\n",
    "H = model.fit(\n",
    "    x=trainAug.flow(trainX, trainY, batch_size=BS),\n",
    "    steps_per_epoch=len(trainX) // BS,\n",
    "    validation_data=valAug.flow(testX, testY),\n",
    "    validation_steps=len(testX) // BS,\n",
    "    epochs=EPOCHS\n",
    ")"
   ]
  },
  {
   "cell_type": "code",
   "execution_count": 9,
   "metadata": {
    "id": "QwgX3nP8jArr"
   },
   "outputs": [],
   "source": [
    "name = 'model_weights.h5'\n",
    "\n",
    "model.save_weights(name)"
   ]
  },
  {
   "cell_type": "code",
   "execution_count": 10,
   "metadata": {
    "colab": {
     "base_uri": "https://localhost:8080/",
     "height": 295
    },
    "id": "e6mxQe65o5vN",
    "outputId": "83a699f8-dfb5-460c-f079-373f18b7277c"
   },
   "outputs": [
    {
     "data": {
      "image/png": "[encoded data removed]",
      "text/plain": [
       "<Figure size 432x288 with 1 Axes>"
      ]
     },
     "metadata": {
      "needs_background": "light",
      "tags": []
     },
     "output_type": "display_data"
    }
   ],
   "source": [
    "plt.plot(np.arange(0, EPOCHS), H.history[\"accuracy\"], label=\"train_acc\");\n",
    "plt.plot(np.arange(0, EPOCHS), H.history[\"val_accuracy\"], label=\"val_acc\");\n",
    "plt.title(\"Training Accuracy on Dataset\");\n",
    "plt.xlabel(\"Epoch #\");\n",
    "plt.ylabel(\"Accuracy\");"
   ]
  },
  {
   "cell_type": "code",
   "execution_count": 11,
   "metadata": {
    "colab": {
     "base_uri": "https://localhost:8080/",
     "height": 295
    },
    "id": "Cye2VBietzx3",
    "outputId": "f1b46037-cf52-412d-eb0a-c5dfe94186a3"
   },
   "outputs": [
    {
     "data": {
      "image/png": "[encoded data removed]",
      "text/plain": [
       "<Figure size 432x288 with 1 Axes>"
      ]
     },
     "metadata": {
      "needs_background": "light",
      "tags": []
     },
     "output_type": "display_data"
    }
   ],
   "source": [
    "plt.plot(np.arange(0, EPOCHS), H.history[\"loss\"], label=\"train_loss\");\n",
    "plt.plot(np.arange(0, EPOCHS), H.history[\"val_loss\"], label=\"val_loss\");\n",
    "plt.title(\"Training Loss on Dataset\");\n",
    "plt.xlabel(\"Epoch #\");\n",
    "plt.ylabel(\"Loss\");"
   ]
  },
  {
   "cell_type": "code",
   "execution_count": 12,
   "metadata": {
    "id": "7E5vxUlNuK2t"
   },
   "outputs": [],
   "source": [
    "ypred = model.predict(testX)"
   ]
  },
  {
   "cell_type": "code",
   "execution_count": 13,
   "metadata": {
    "colab": {
     "base_uri": "https://localhost:8080/",
     "height": 269
    },
    "id": "2LX25cnR3Tcd",
    "outputId": "20b24460-b859-4b8c-9b84-a145409a5333"
   },
   "outputs": [
    {
     "name": "stdout",
     "output_type": "stream",
     "text": [
      "Classification Report:\n",
      "\n",
      "              precision    recall  f1-score   support\n",
      "\n",
      "           0       0.99      1.00      0.99       864\n",
      "           1       1.00      0.99      0.99       865\n",
      "\n",
      "    accuracy                           0.99      1729\n",
      "   macro avg       0.99      0.99      0.99      1729\n",
      "weighted avg       0.99      0.99      0.99      1729\n",
      "\n",
      "Confusion Matrix:\n",
      "\n",
      "[[863   1]\n",
      " [ 11 854]]\n"
     ]
    }
   ],
   "source": [
    "pred = []\n",
    "yp = ypred.reshape(1,-1)[0]\n",
    "thresh = 0.5\n",
    "for val in yp:\n",
    "  if val>thresh:\n",
    "    pred.append(1)\n",
    "  else:\n",
    "    pred.append(0)\n",
    "\n",
    "ypred = np.array(pred).reshape(-1,1)\n",
    "\n",
    "print('Classification Report:\\n')\n",
    "print(classification_report(testY,ypred))\n",
    "print('Confusion Matrix:\\n')\n",
    "print(confusion_matrix(testY,ypred))"
   ]
  }
 ],
 "metadata": {
  "accelerator": "GPU",
  "colab": {
   "collapsed_sections": [],
   "machine_shape": "hm",
   "name": "Copy of HACKANONS COLAB 25GB RAM.ipynb",
   "provenance": []
  },
  "kernelspec": {
   "display_name": "Python 3",
   "language": "python",
   "name": "python3"
  },
  "language_info": {
   "codemirror_mode": {
    "name": "ipython",
    "version": 3
   },
   "file_extension": ".py",
   "mimetype": "text/x-python",
   "name": "python",
   "nbconvert_exporter": "python",
   "pygments_lexer": "ipython3",
   "version": "3.7.9"
  }
 },
 "nbformat": 4,
 "nbformat_minor": 1
}
