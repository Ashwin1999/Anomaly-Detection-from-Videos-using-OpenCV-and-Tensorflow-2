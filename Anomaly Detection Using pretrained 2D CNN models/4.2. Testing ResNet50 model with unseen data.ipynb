{
 "cells": [
  {
   "cell_type": "code",
   "execution_count": 1,
   "metadata": {},
   "outputs": [],
   "source": [
    "import os\n",
    "\n",
    "import tensorflow as tf\n",
    "\n",
    "import pickle\n",
    "from sklearn.preprocessing import LabelBinarizer\n",
    "from sklearn.model_selection import train_test_split\n",
    "from sklearn.metrics import classification_report, confusion_matrix\n",
    "\n",
    "import numpy as np\n",
    "import pandas as pd\n",
    "import matplotlib.pyplot as plt\n",
    "\n",
    "from tensorflow.keras.preprocessing.image import ImageDataGenerator\n",
    "from tensorflow.keras.layers import MaxPooling2D, AveragePooling2D\n",
    "\n",
    "from tensorflow.keras.layers import Dropout\n",
    "from tensorflow.keras.layers import Flatten\n",
    "from tensorflow.keras.layers import Dense\n",
    "from tensorflow.keras.layers import Input\n",
    "from tensorflow.keras.models import Model\n",
    "from tensorflow.keras.optimizers import Adam\n",
    "from tensorflow.keras.regularizers import l2\n",
    "\n",
    "import warnings\n",
    "\n",
    "import cv2"
   ]
  },
  {
   "cell_type": "code",
   "execution_count": 2,
   "metadata": {},
   "outputs": [
    {
     "data": {
      "text/plain": [
       "['AveragePooling2D&Adam', 'MaxPooling2D&Adam']"
      ]
     },
     "execution_count": 2,
     "metadata": {},
     "output_type": "execute_result"
    }
   ],
   "source": [
    "os.listdir('./weights/ResNet50')"
   ]
  },
  {
   "cell_type": "code",
   "execution_count": 3,
   "metadata": {},
   "outputs": [],
   "source": [
    "path1 = \"./weights/ResNet50/AveragePooling2D&Adam/\"\n",
    "\n",
    "path2 = \"./weights/ResNet50/MaxPooling2D&Adam/\""
   ]
  },
  {
   "cell_type": "code",
   "execution_count": 5,
   "metadata": {},
   "outputs": [],
   "source": [
    "from tensorflow.keras.applications import ResNet50"
   ]
  },
  {
   "cell_type": "markdown",
   "metadata": {},
   "source": [
    "# Average Pooling 2D"
   ]
  },
  {
   "cell_type": "markdown",
   "metadata": {},
   "source": [
    "### Loading weights and model architecture"
   ]
  },
  {
   "cell_type": "code",
   "execution_count": 6,
   "metadata": {},
   "outputs": [],
   "source": [
    "baseModel = ResNet50(weights=\"imagenet\", include_top=False, input_tensor=Input(shape=(240, 320, 3)))\n",
    "# baseModel = Xception(weights=\"imagenet\", include_top=False, input_tensor=Input(shape=(240, 320, 3)))\n",
    "\n",
    "headModel = baseModel.output\n",
    "\n",
    "headModel = AveragePooling2D(pool_size=(7, 7),)(headModel)\n",
    "\n",
    "headModel = Flatten(name=\"flatten\")(headModel)\n",
    "\n",
    "headModel = Dense(512, kernel_regularizer=l2(0.0001), activation=\"relu\")(headModel)\n",
    "headModel = Dropout(0.5)(headModel)\n",
    "\n",
    "headModel = Dense(1, activation=\"sigmoid\")(headModel)\n",
    "\n",
    "model = Model(inputs=baseModel.input, outputs=headModel)\n",
    "\n",
    "for layer in baseModel.layers:\n",
    "    layer.trainable = False\n",
    "    \n",
    "model.load_weights(path1+'model_weights.h5')"
   ]
  },
  {
   "cell_type": "code",
   "execution_count": 7,
   "metadata": {},
   "outputs": [
    {
     "data": {
      "text/plain": [
       "['Burglary001_x264.mp4',\n",
       " 'Burglary002_x264.mp4',\n",
       " 'Burglary003_x264.mp4',\n",
       " 'Burglary013_x264.mp4',\n",
       " 'Burglary014_x264.mp4',\n",
       " 'Burglary015_x264.mp4',\n",
       " 'Burglary025_x264.mp4',\n",
       " 'Burglary026_x264.mp4',\n",
       " 'Burglary027_x264.mp4',\n",
       " 'Burglary085_x264.mp4',\n",
       " 'Normal_Videos_006_x264.mp4',\n",
       " 'Normal_Videos_015_x264.mp4',\n",
       " 'Normal_Videos_018_x264.mp4',\n",
       " 'Normal_Videos_150_x264.mp4',\n",
       " 'Normal_Videos_168_x264.mp4',\n",
       " 'Normal_Videos_189_x264.mp4',\n",
       " 'Normal_Videos_251_x264.mp4',\n",
       " 'Normal_Videos_310_x264.mp4',\n",
       " 'Normal_Videos_439_x264.mp4',\n",
       " 'Normal_Videos_453_x264.mp4']"
      ]
     },
     "execution_count": 7,
     "metadata": {},
     "output_type": "execute_result"
    }
   ],
   "source": [
    "os.listdir('./dataset/VideoDataset/test')[:20]"
   ]
  },
  {
   "cell_type": "markdown",
   "metadata": {},
   "source": [
    "### Model class:\n",
    "#### 0 - Crime\n",
    "#### 1 - Normal\n",
    "\n",
    "We've inverted it like (1-predicted_value)*100 to get the probability of the video belonging to crime..."
   ]
  },
  {
   "cell_type": "code",
   "execution_count": 13,
   "metadata": {},
   "outputs": [
    {
     "name": "stdout",
     "output_type": "stream",
     "text": [
      "Enter a video present in test folder: Burglary013_x264\n"
     ]
    }
   ],
   "source": [
    "# Crime:\n",
    "# group of  people enter a store and steal stuff: Burglary015_x264 ... initially looks normal, but model predict it to be\n",
    "#  crime from the beginning.\n",
    "\n",
    "# example where model is confused - guy enters a room and opens the door of something (maybe a fridge?): Burglary002_x264\n",
    "# we need to make to model to predict only when it detects movement\n",
    "\n",
    "# atm robbery: Burglary013_x264 ... same as above ie motion detection needed\n",
    "\n",
    "# thieves in a car crash into some shop: Burglary027_x264 ... same as above ie motion detection needed\n",
    "\n",
    "\n",
    "\n",
    "\n",
    "# Normal:\n",
    "# not a crime: Normal_Videos_168_x264\n",
    "\n",
    "# game of basketball: Normal_Videos_310_x264\n",
    "\n",
    "# a pathway in an airport: Normal_Videos_150_x264\n",
    "\n",
    "# a busy road: Normal_Videos_006_x264\n",
    "\n",
    "\n",
    "Q = []\n",
    "\n",
    "thresh = None\n",
    "videoName = input(\"Enter a video present in test folder: \")\n",
    "\n",
    "cap = cv2.VideoCapture(f'./dataset/VideoDataset/test/{videoName}.mp4')\n",
    "\n",
    "if cap.isOpened()==False:\n",
    "    print(\"Either file not found or wrong codec used\")\n",
    "\n",
    "while cap.isOpened():\n",
    "    ret, frame = cap.read()\n",
    "    \n",
    "    if ret==True:\n",
    "        out = frame.copy()\n",
    "        out = cv2.cvtColor(out, cv2.COLOR_BGR2RGB)\n",
    "        out = cv2.resize(out, (320, 240)).astype(\"float32\")\n",
    "        \n",
    "        pred = model.predict(np.expand_dims(out, axis=0))[0][0]\n",
    "        \n",
    "        state = f\"Score: {(1 - pred)*100}% crime\"\n",
    "        frame = cv2.putText(frame, state, (10,30), cv2.FONT_HERSHEY_SIMPLEX, 0.5, (200, 200, 200), 2)\n",
    "        \n",
    "        # feedback\n",
    "        cv2.imshow('frame',frame)\n",
    "    \n",
    "        # if you want to quit, press 'q'\n",
    "        if cv2.waitKey(1) & 0xFF==ord('q'):\n",
    "            break\n",
    "    \n",
    "    # if nothing is returned, break out of the loop\n",
    "    else:\n",
    "        break\n",
    "\n",
    "cap.release()\n",
    "cv2.destroyAllWindows()"
   ]
  },
  {
   "cell_type": "markdown",
   "metadata": {},
   "source": [
    "# Max Pooling 2D"
   ]
  },
  {
   "cell_type": "markdown",
   "metadata": {},
   "source": [
    "### Loading weights and model architecture"
   ]
  },
  {
   "cell_type": "code",
   "execution_count": 16,
   "metadata": {},
   "outputs": [],
   "source": [
    "baseModel = ResNet50(weights=\"imagenet\", include_top=False, input_tensor=Input(shape=(240, 320, 3)))\n",
    "# baseModel = Xception(weights=\"imagenet\", include_top=False, input_tensor=Input(shape=(240, 320, 3)))\n",
    "\n",
    "headModel = baseModel.output\n",
    "\n",
    "headModel = MaxPooling2D(pool_size=(7, 7),)(headModel)\n",
    "\n",
    "headModel = Flatten(name=\"flatten\")(headModel)\n",
    "\n",
    "headModel = Dense(512, kernel_regularizer=l2(0.0001), activation=\"relu\")(headModel)\n",
    "headModel = Dropout(0.5)(headModel)\n",
    "\n",
    "headModel = Dense(1, activation=\"sigmoid\")(headModel)\n",
    "\n",
    "model = Model(inputs=baseModel.input, outputs=headModel)\n",
    "\n",
    "for layer in baseModel.layers:\n",
    "    layer.trainable = False\n",
    "    \n",
    "model.load_weights(path2+'model_weights.h5')"
   ]
  },
  {
   "cell_type": "code",
   "execution_count": 17,
   "metadata": {},
   "outputs": [
    {
     "data": {
      "text/plain": [
       "['Burglary001_x264.mp4',\n",
       " 'Burglary002_x264.mp4',\n",
       " 'Burglary003_x264.mp4',\n",
       " 'Burglary013_x264.mp4',\n",
       " 'Burglary014_x264.mp4',\n",
       " 'Burglary015_x264.mp4',\n",
       " 'Burglary025_x264.mp4',\n",
       " 'Burglary026_x264.mp4',\n",
       " 'Burglary027_x264.mp4',\n",
       " 'Burglary085_x264.mp4',\n",
       " 'Normal_Videos_006_x264.mp4',\n",
       " 'Normal_Videos_015_x264.mp4',\n",
       " 'Normal_Videos_018_x264.mp4',\n",
       " 'Normal_Videos_150_x264.mp4',\n",
       " 'Normal_Videos_168_x264.mp4',\n",
       " 'Normal_Videos_189_x264.mp4',\n",
       " 'Normal_Videos_251_x264.mp4',\n",
       " 'Normal_Videos_310_x264.mp4',\n",
       " 'Normal_Videos_439_x264.mp4',\n",
       " 'Normal_Videos_453_x264.mp4']"
      ]
     },
     "execution_count": 17,
     "metadata": {},
     "output_type": "execute_result"
    }
   ],
   "source": [
    "os.listdir('./dataset/VideoDataset/test')[:20]"
   ]
  },
  {
   "cell_type": "markdown",
   "metadata": {},
   "source": [
    "### Model class:\n",
    "#### 0 - Crime\n",
    "#### 1 - Normal\n",
    "\n",
    "We've inverted it like (1-predicted_value)*100 to get the probability of the video belonging to crime..."
   ]
  },
  {
   "cell_type": "code",
   "execution_count": 25,
   "metadata": {},
   "outputs": [
    {
     "name": "stdout",
     "output_type": "stream",
     "text": [
      "Enter a video present in test folder: Normal_Videos_006_x264\n"
     ]
    }
   ],
   "source": [
    "# Crime:\n",
    "# group of  people enter a store and steal stuff: Burglary015_x264 ... initially looks normal, but model predict it to be\n",
    "#  crime from the beginning.\n",
    "\n",
    "# example where model is confused - guy enters a room and opens the door of something (maybe a fridge?): Burglary002_x264\n",
    "# we need to make to model to predict only when it detects movement\n",
    "\n",
    "# atm robbery: Burglary013_x264 ... same as above ie motion detection needed\n",
    "\n",
    "# thieves in a car crash into some shop: Burglary027_x264 ... same as above ie motion detection needed\n",
    "\n",
    "\n",
    "\n",
    "\n",
    "# Normal:\n",
    "# not a crime: Normal_Videos_168_x264\n",
    "\n",
    "# game of basketball: Normal_Videos_310_x264\n",
    "\n",
    "# a pathway in an airport: Normal_Videos_150_x264 ... unlike the previous model, here we can observe some confusion predicting\n",
    "# wether it is normal or not\n",
    "\n",
    "# a busy road: Normal_Videos_006_x264\n",
    "\n",
    "\n",
    "Q = []\n",
    "\n",
    "thresh = None\n",
    "videoName = input(\"Enter a video present in test folder: \")\n",
    "\n",
    "cap = cv2.VideoCapture(f'./dataset/VideoDataset/test/{videoName}.mp4')\n",
    "\n",
    "if cap.isOpened()==False:\n",
    "    print(\"Either file not found or wrong codec used\")\n",
    "\n",
    "while cap.isOpened():\n",
    "    ret, frame = cap.read()\n",
    "    \n",
    "    if ret==True:\n",
    "        out = frame.copy()\n",
    "        out = cv2.cvtColor(out, cv2.COLOR_BGR2RGB)\n",
    "        out = cv2.resize(out, (320, 240)).astype(\"float32\")\n",
    "        \n",
    "        pred = model.predict(np.expand_dims(out, axis=0))[0][0]\n",
    "        \n",
    "        state = f\"Score: {(1 - pred)*100}% crime\"\n",
    "        frame = cv2.putText(frame, state, (10,30), cv2.FONT_HERSHEY_SIMPLEX, 0.5, (200, 200, 200), 2)\n",
    "        \n",
    "        # feedback\n",
    "        cv2.imshow('frame',frame)\n",
    "    \n",
    "        # if you want to quit, press 'q'\n",
    "        if cv2.waitKey(1) & 0xFF==ord('q'):\n",
    "            break\n",
    "    \n",
    "    # if nothing is returned, break out of the loop\n",
    "    else:\n",
    "        break\n",
    "\n",
    "cap.release()\n",
    "cv2.destroyAllWindows()"
   ]
  },
  {
   "cell_type": "code",
   "execution_count": null,
   "metadata": {},
   "outputs": [],
   "source": []
  }
 ],
 "metadata": {
  "kernelspec": {
   "display_name": "Python 3",
   "language": "python",
   "name": "python3"
  },
  "language_info": {
   "codemirror_mode": {
    "name": "ipython",
    "version": 3
   },
   "file_extension": ".py",
   "mimetype": "text/x-python",
   "name": "python",
   "nbconvert_exporter": "python",
   "pygments_lexer": "ipython3",
   "version": "3.7.9"
  }
 },
 "nbformat": 4,
 "nbformat_minor": 4
}
