{
 "cells": [
  {
   "cell_type": "code",
   "execution_count": 1,
   "metadata": {},
   "outputs": [],
   "source": [
    "import os"
   ]
  },
  {
   "cell_type": "code",
   "execution_count": 2,
   "metadata": {},
   "outputs": [],
   "source": [
    "path = 'dataset/VideoDataset/train'\n",
    "os.listdir(path)"
   ]
  },
  {
   "cell_type": "code",
   "execution_count": 3,
   "metadata": {},
   "outputs": [],
   "source": [
    "crime_path, normal_path = path+'/crime',path+'/normal' "
   ]
  },
  {
   "cell_type": "code",
   "execution_count": 4,
   "metadata": {},
   "outputs": [],
   "source": [
    "crime_videos = os.listdir(crime_path)\n",
    "normal_videos = os.listdir(normal_path)"
   ]
  },
  {
   "cell_type": "code",
   "execution_count": 5,
   "metadata": {},
   "outputs": [],
   "source": [
    "# exclude 'frames' from both the list\n",
    "\n",
    "crime_videos_path, normal_videos_path = [], []\n",
    "for video in crime_videos:\n",
    "    if video!='frames':\n",
    "        crime_videos_path.append(str(crime_path+'/'+video))\n",
    "    \n",
    "for video in normal_videos:\n",
    "    if video!='frames':\n",
    "        normal_videos_path.append(str(normal_path+'/'+video))\n",
    "        \n",
    "        \n",
    "crimeClass, normalClass = ['crime']*len(crime_videos_path), ['normal']*len(normal_videos_path)"
   ]
  },
  {
   "cell_type": "code",
   "execution_count": 6,
   "metadata": {},
   "outputs": [],
   "source": [
    "allPath = crime_videos_path+normal_videos_path\n",
    "allClass = crimeClass+normalClass"
   ]
  },
  {
   "cell_type": "code",
   "execution_count": 7,
   "metadata": {},
   "outputs": [],
   "source": [
    "import pandas as pd"
   ]
  },
  {
   "cell_type": "code",
   "execution_count": 8,
   "metadata": {},
   "outputs": [
    {
     "data": {
      "text/html": [
       "<div>\n",
       "<style scoped>\n",
       "    .dataframe tbody tr th:only-of-type {\n",
       "        vertical-align: middle;\n",
       "    }\n",
       "\n",
       "    .dataframe tbody tr th {\n",
       "        vertical-align: top;\n",
       "    }\n",
       "\n",
       "    .dataframe thead th {\n",
       "        text-align: right;\n",
       "    }\n",
       "</style>\n",
       "<table border=\"1\" class=\"dataframe\">\n",
       "  <thead>\n",
       "    <tr style=\"text-align: right;\">\n",
       "      <th></th>\n",
       "      <th>path</th>\n",
       "      <th>class</th>\n",
       "    </tr>\n",
       "  </thead>\n",
       "  <tbody>\n",
       "    <tr>\n",
       "      <th>0</th>\n",
       "      <td>dataset/VideoDataset/train/crime/Burglary051_x...</td>\n",
       "      <td>crime</td>\n",
       "    </tr>\n",
       "    <tr>\n",
       "      <th>1</th>\n",
       "      <td>dataset/VideoDataset/train/crime/Burglary052_x...</td>\n",
       "      <td>crime</td>\n",
       "    </tr>\n",
       "    <tr>\n",
       "      <th>2</th>\n",
       "      <td>dataset/VideoDataset/train/crime/Burglary053_x...</td>\n",
       "      <td>crime</td>\n",
       "    </tr>\n",
       "    <tr>\n",
       "      <th>3</th>\n",
       "      <td>dataset/VideoDataset/train/crime/Burglary054_x...</td>\n",
       "      <td>crime</td>\n",
       "    </tr>\n",
       "    <tr>\n",
       "      <th>4</th>\n",
       "      <td>dataset/VideoDataset/train/crime/Burglary055_x...</td>\n",
       "      <td>crime</td>\n",
       "    </tr>\n",
       "    <tr>\n",
       "      <th>...</th>\n",
       "      <td>...</td>\n",
       "      <td>...</td>\n",
       "    </tr>\n",
       "    <tr>\n",
       "      <th>195</th>\n",
       "      <td>dataset/VideoDataset/train/normal/Normal_Video...</td>\n",
       "      <td>normal</td>\n",
       "    </tr>\n",
       "    <tr>\n",
       "      <th>196</th>\n",
       "      <td>dataset/VideoDataset/train/normal/Normal_Video...</td>\n",
       "      <td>normal</td>\n",
       "    </tr>\n",
       "    <tr>\n",
       "      <th>197</th>\n",
       "      <td>dataset/VideoDataset/train/normal/Normal_Video...</td>\n",
       "      <td>normal</td>\n",
       "    </tr>\n",
       "    <tr>\n",
       "      <th>198</th>\n",
       "      <td>dataset/VideoDataset/train/normal/Normal_Video...</td>\n",
       "      <td>normal</td>\n",
       "    </tr>\n",
       "    <tr>\n",
       "      <th>199</th>\n",
       "      <td>dataset/VideoDataset/train/normal/Normal_Video...</td>\n",
       "      <td>normal</td>\n",
       "    </tr>\n",
       "  </tbody>\n",
       "</table>\n",
       "<p>200 rows × 2 columns</p>\n",
       "</div>"
      ],
      "text/plain": [
       "                                                  path   class\n",
       "0    dataset/VideoDataset/train/crime/Burglary051_x...   crime\n",
       "1    dataset/VideoDataset/train/crime/Burglary052_x...   crime\n",
       "2    dataset/VideoDataset/train/crime/Burglary053_x...   crime\n",
       "3    dataset/VideoDataset/train/crime/Burglary054_x...   crime\n",
       "4    dataset/VideoDataset/train/crime/Burglary055_x...   crime\n",
       "..                                                 ...     ...\n",
       "195  dataset/VideoDataset/train/normal/Normal_Video...  normal\n",
       "196  dataset/VideoDataset/train/normal/Normal_Video...  normal\n",
       "197  dataset/VideoDataset/train/normal/Normal_Video...  normal\n",
       "198  dataset/VideoDataset/train/normal/Normal_Video...  normal\n",
       "199  dataset/VideoDataset/train/normal/Normal_Video...  normal\n",
       "\n",
       "[200 rows x 2 columns]"
      ]
     },
     "execution_count": 8,
     "metadata": {},
     "output_type": "execute_result"
    }
   ],
   "source": [
    "df = pd.DataFrame({\n",
    "    'path': allPath,\n",
    "    'class': allClass,\n",
    "})\n",
    "\n",
    "df"
   ]
  },
  {
   "cell_type": "code",
   "execution_count": 9,
   "metadata": {},
   "outputs": [],
   "source": [
    "test = df.sample(frac=1)\n",
    "test.reset_index(inplace=True)\n",
    "test.drop('index', axis=1, inplace=True)\n",
    "test.to_csv('filePath.csv', index=False)"
   ]
  }
 ],
 "metadata": {
  "kernelspec": {
   "display_name": "Python 3",
   "language": "python",
   "name": "python3"
  },
  "language_info": {
   "codemirror_mode": {
    "name": "ipython",
    "version": 3
   },
   "file_extension": ".py",
   "mimetype": "text/x-python",
   "name": "python",
   "nbconvert_exporter": "python",
   "pygments_lexer": "ipython3",
   "version": "3.7.9"
  }
 },
 "nbformat": 4,
 "nbformat_minor": 4
}
