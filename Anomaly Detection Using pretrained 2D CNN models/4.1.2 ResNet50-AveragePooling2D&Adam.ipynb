{
 "cells": [
  {
   "cell_type": "code",
   "execution_count": 1,
   "metadata": {
    "colab": {
     "base_uri": "https://localhost:8080/",
     "height": 34
    },
    "executionInfo": {
     "elapsed": 7854,
     "status": "ok",
     "timestamp": 1602683834395,
     "user": {
      "displayName": "Ashwin Bala",
      "photoUrl": "https://lh3.googleusercontent.com/a-/AOh14GgcnYip99W9Fjw8EZ28kbCg_p3noiqBMycdIDnvtA=s64",
      "userId": "15060558202235376156"
     },
     "user_tz": -330
    },
    "id": "tAb77yZ9fzMG",
    "outputId": "d7a5833c-0fa2-4f9c-d0f0-6b7bca1405e5"
   },
   "outputs": [
    {
     "name": "stdout",
     "output_type": "stream",
     "text": [
      "/device:GPU:0\n"
     ]
    }
   ],
   "source": [
    "import tensorflow as tf\n",
    "\n",
    "device_name = tf.test.gpu_device_name()\n",
    "print(device_name)\n",
    "\n",
    "import pickle\n",
    "from sklearn.preprocessing import LabelBinarizer\n",
    "from sklearn.model_selection import train_test_split\n",
    "from sklearn.metrics import classification_report, confusion_matrix\n",
    "\n",
    "import numpy as np\n",
    "import pandas as pd\n",
    "import matplotlib.pyplot as plt\n",
    "\n",
    "from tensorflow.keras.preprocessing.image import ImageDataGenerator\n",
    "from tensorflow.keras.layers import AveragePooling2D\n",
    "\n",
    "from tensorflow.keras.applications import ResNet50\n",
    "\n",
    "from tensorflow.keras.layers import Dropout\n",
    "from tensorflow.keras.layers import Flatten\n",
    "from tensorflow.keras.layers import Dense\n",
    "from tensorflow.keras.layers import Input\n",
    "from tensorflow.keras.models import Model\n",
    "from tensorflow.keras.optimizers import SGD, Adam\n",
    "from tensorflow.keras.regularizers import l2\n",
    "\n",
    "import warnings\n",
    "warnings.filterwarnings('ignore')"
   ]
  },
  {
   "cell_type": "code",
   "execution_count": 2,
   "metadata": {
    "colab": {
     "base_uri": "https://localhost:8080/",
     "height": 34
    },
    "executionInfo": {
     "elapsed": 27862,
     "status": "ok",
     "timestamp": 1602683855037,
     "user": {
      "displayName": "Ashwin Bala",
      "photoUrl": "https://lh3.googleusercontent.com/a-/AOh14GgcnYip99W9Fjw8EZ28kbCg_p3noiqBMycdIDnvtA=s64",
      "userId": "15060558202235376156"
     },
     "user_tz": -330
    },
    "id": "UhPHulcLiS9w",
    "outputId": "eb753c69-217a-42fc-fc5e-bc685caa9439"
   },
   "outputs": [
    {
     "name": "stdout",
     "output_type": "stream",
     "text": [
      "Mounted at /content/drive\n"
     ]
    }
   ],
   "source": [
    "from google.colab import drive\n",
    "drive.mount('/content/drive')"
   ]
  },
  {
   "cell_type": "code",
   "execution_count": 3,
   "metadata": {
    "executionInfo": {
     "elapsed": 58266,
     "status": "ok",
     "timestamp": 1602683891352,
     "user": {
      "displayName": "Ashwin Bala",
      "photoUrl": "https://lh3.googleusercontent.com/a-/AOh14GgcnYip99W9Fjw8EZ28kbCg_p3noiqBMycdIDnvtA=s64",
      "userId": "15060558202235376156"
     },
     "user_tz": -330
    },
    "id": "Gg3civ_9iHEY"
   },
   "outputs": [],
   "source": [
    "dp = \"/content/drive/My Drive/Anomaly Detection/Version 2/pickled images and labels/batch1/resized1\"\n",
    "lp = \"/content/drive/My Drive/Anomaly Detection/Version 2/pickled images and labels/batch1/labels1\"\n",
    "\n",
    "data, labels = pickle.loads(open(dp, \"rb\").read()), pickle.loads(open(lp, \"rb\").read())"
   ]
  },
  {
   "cell_type": "code",
   "execution_count": 7,
   "metadata": {
    "executionInfo": {
     "elapsed": 1082,
     "status": "ok",
     "timestamp": 1602683936951,
     "user": {
      "displayName": "Ashwin Bala",
      "photoUrl": "https://lh3.googleusercontent.com/a-/AOh14GgcnYip99W9Fjw8EZ28kbCg_p3noiqBMycdIDnvtA=s64",
      "userId": "15060558202235376156"
     },
     "user_tz": -330
    },
    "id": "pafL7Li0jyXW"
   },
   "outputs": [],
   "source": [
    "le = LabelBinarizer()\n",
    "labels = le.fit_transform(labels)"
   ]
  },
  {
   "cell_type": "code",
   "execution_count": 8,
   "metadata": {
    "executionInfo": {
     "elapsed": 1939,
     "status": "ok",
     "timestamp": 1602683937861,
     "user": {
      "displayName": "Ashwin Bala",
      "photoUrl": "https://lh3.googleusercontent.com/a-/AOh14GgcnYip99W9Fjw8EZ28kbCg_p3noiqBMycdIDnvtA=s64",
      "userId": "15060558202235376156"
     },
     "user_tz": -330
    },
    "id": "lFXHmteyigdV"
   },
   "outputs": [],
   "source": [
    "(trainX, testX, trainY, testY) = train_test_split(data, labels, test_size=0.15, random_state=42, shuffle=True)"
   ]
  },
  {
   "cell_type": "code",
   "execution_count": 11,
   "metadata": {
    "colab": {
     "base_uri": "https://localhost:8080/",
     "height": 34
    },
    "executionInfo": {
     "elapsed": 812,
     "status": "ok",
     "timestamp": 1602683982468,
     "user": {
      "displayName": "Ashwin Bala",
      "photoUrl": "https://lh3.googleusercontent.com/a-/AOh14GgcnYip99W9Fjw8EZ28kbCg_p3noiqBMycdIDnvtA=s64",
      "userId": "15060558202235376156"
     },
     "user_tz": -330
    },
    "id": "I_BX-GyxZuBh",
    "outputId": "b05cbe3f-6f91-4828-c201-4a74124ab8cb"
   },
   "outputs": [
    {
     "data": {
      "text/plain": [
       "11521"
      ]
     },
     "execution_count": 11,
     "metadata": {
      "tags": []
     },
     "output_type": "execute_result"
    }
   ],
   "source": [
    "len(labels)"
   ]
  },
  {
   "cell_type": "code",
   "execution_count": null,
   "metadata": {
    "id": "Vh2Q9pOfilg_"
   },
   "outputs": [],
   "source": [
    "trainAug = ImageDataGenerator(\n",
    "    rotation_range=20,\n",
    "    zoom_range=0.10,\n",
    "    shear_range=0.10,\n",
    "    horizontal_flip=True,\n",
    ")\n",
    "\n",
    "valAug = ImageDataGenerator()"
   ]
  },
  {
   "cell_type": "code",
   "execution_count": null,
   "metadata": {
    "colab": {
     "base_uri": "https://localhost:8080/",
     "height": 50
    },
    "executionInfo": {
     "elapsed": 77974,
     "status": "ok",
     "timestamp": 1602250548735,
     "user": {
      "displayName": "Ashwin Bala",
      "photoUrl": "https://lh3.googleusercontent.com/a-/AOh14GgcnYip99W9Fjw8EZ28kbCg_p3noiqBMycdIDnvtA=s64",
      "userId": "15060558202235376156"
     },
     "user_tz": -330
    },
    "id": "rS0xu-wrimOz",
    "outputId": "5da51a65-9f54-440e-e3ce-561d5ba57786"
   },
   "outputs": [
    {
     "name": "stdout",
     "output_type": "stream",
     "text": [
      "Downloading data from https://storage.googleapis.com/tensorflow/keras-applications/resnet/resnet50_weights_tf_dim_ordering_tf_kernels_notop.h5\n",
      "94773248/94765736 [==============================] - 1s 0us/step\n"
     ]
    }
   ],
   "source": [
    "baseModel = ResNet50(weights=\"imagenet\", include_top=False, input_tensor=Input(shape=(240, 320, 3)))\n",
    "\n",
    "headModel = baseModel.output\n",
    "\n",
    "headModel = AveragePooling2D(pool_size=(7, 7),)(headModel)\n",
    "\n",
    "headModel = Flatten(name=\"flatten\")(headModel)\n",
    "\n",
    "headModel = Dense(512, kernel_regularizer=l2(0.0001), activation=\"relu\")(headModel)\n",
    "headModel = Dropout(0.5)(headModel)\n",
    "\n",
    "headModel = Dense(1, activation=\"sigmoid\")(headModel)\n",
    "\n",
    "model = Model(inputs=baseModel.input, outputs=headModel)\n",
    "\n",
    "for layer in baseModel.layers:\n",
    "    layer.trainable = False"
   ]
  },
  {
   "cell_type": "code",
   "execution_count": null,
   "metadata": {
    "colab": {
     "base_uri": "https://localhost:8080/",
     "height": 218
    },
    "executionInfo": {
     "elapsed": 762239,
     "status": "ok",
     "timestamp": 1602251233011,
     "user": {
      "displayName": "Ashwin Bala",
      "photoUrl": "https://lh3.googleusercontent.com/a-/AOh14GgcnYip99W9Fjw8EZ28kbCg_p3noiqBMycdIDnvtA=s64",
      "userId": "15060558202235376156"
     },
     "user_tz": -330
    },
    "id": "E01OZLx9iq6c",
    "outputId": "317dfc43-3b13-4cde-99e9-ab4ae17b2926"
   },
   "outputs": [
    {
     "name": "stdout",
     "output_type": "stream",
     "text": [
      "[INFO] compiling model...\n",
      "[INFO] training head...\n",
      "Epoch 1/5\n",
      "76/76 [==============================] - 130s 2s/step - loss: 0.3428 - accuracy: 0.8858 - val_loss: 0.1796 - val_accuracy: 0.9784\n",
      "Epoch 2/5\n",
      "76/76 [==============================] - 131s 2s/step - loss: 0.1771 - accuracy: 0.9691 - val_loss: 0.1309 - val_accuracy: 0.9856\n",
      "Epoch 3/5\n",
      "76/76 [==============================] - 132s 2s/step - loss: 0.1445 - accuracy: 0.9825 - val_loss: 0.1107 - val_accuracy: 0.9952\n",
      "Epoch 4/5\n",
      "76/76 [==============================] - 132s 2s/step - loss: 0.1260 - accuracy: 0.9871 - val_loss: 0.1132 - val_accuracy: 0.9904\n",
      "Epoch 5/5\n",
      "76/76 [==============================] - 132s 2s/step - loss: 0.1140 - accuracy: 0.9895 - val_loss: 0.1054 - val_accuracy: 0.9952\n"
     ]
    }
   ],
   "source": [
    "BS = 128\n",
    "EPOCHS = 5\n",
    "\n",
    "print(\"[INFO] compiling model...\")\n",
    "# opt = SGD(lr=0.0001, momentum=0.7)\n",
    "opt = Adam(lr=0.0001)\n",
    "model.compile(loss=\"binary_crossentropy\", optimizer=opt, metrics=[\"accuracy\"])\n",
    "\n",
    "print(\"[INFO] training head...\")\n",
    "\n",
    "H = model.fit(\n",
    "    x=trainAug.flow(trainX, trainY, batch_size=BS),\n",
    "    steps_per_epoch=len(trainX) // BS,\n",
    "    validation_data=valAug.flow(testX, testY),\n",
    "    validation_steps=len(testX) // BS,\n",
    "    epochs=EPOCHS\n",
    ")"
   ]
  },
  {
   "cell_type": "code",
   "execution_count": null,
   "metadata": {
    "id": "QwgX3nP8jArr"
   },
   "outputs": [],
   "source": [
    "name = 'model_weights.h5'\n",
    "\n",
    "model.save_weights(name)"
   ]
  },
  {
   "cell_type": "code",
   "execution_count": null,
   "metadata": {
    "colab": {
     "base_uri": "https://localhost:8080/",
     "height": 295
    },
    "executionInfo": {
     "elapsed": 762747,
     "status": "ok",
     "timestamp": 1602251233532,
     "user": {
      "displayName": "Ashwin Bala",
      "photoUrl": "https://lh3.googleusercontent.com/a-/AOh14GgcnYip99W9Fjw8EZ28kbCg_p3noiqBMycdIDnvtA=s64",
      "userId": "15060558202235376156"
     },
     "user_tz": -330
    },
    "id": "e6mxQe65o5vN",
    "outputId": "e77fcac9-b6d0-4b9e-cd59-2a4379b25ab2"
   },
   "outputs": [
    {
     "data": {
      "image/png": "[encoded data removed]",
      "text/plain": [
       "<Figure size 432x288 with 1 Axes>"
      ]
     },
     "metadata": {
      "needs_background": "light",
      "tags": []
     },
     "output_type": "display_data"
    }
   ],
   "source": [
    "plt.plot(np.arange(0, EPOCHS), H.history[\"accuracy\"], label=\"train_acc\");\n",
    "plt.plot(np.arange(0, EPOCHS), H.history[\"val_accuracy\"], label=\"val_acc\");\n",
    "plt.title(\"Training Accuracy on Dataset\");\n",
    "plt.xlabel(\"Epoch #\");\n",
    "plt.ylabel(\"Accuracy\");"
   ]
  },
  {
   "cell_type": "code",
   "execution_count": null,
   "metadata": {
    "colab": {
     "base_uri": "https://localhost:8080/",
     "height": 295
    },
    "executionInfo": {
     "elapsed": 762735,
     "status": "ok",
     "timestamp": 1602251233533,
     "user": {
      "displayName": "Ashwin Bala",
      "photoUrl": "https://lh3.googleusercontent.com/a-/AOh14GgcnYip99W9Fjw8EZ28kbCg_p3noiqBMycdIDnvtA=s64",
      "userId": "15060558202235376156"
     },
     "user_tz": -330
    },
    "id": "Cye2VBietzx3",
    "outputId": "686ce7e3-4008-414d-eaca-1fa8fc279f0d"
   },
   "outputs": [
    {
     "data": {
      "image/png": "[encoded data removed]",
      "text/plain": [
       "<Figure size 432x288 with 1 Axes>"
      ]
     },
     "metadata": {
      "needs_background": "light",
      "tags": []
     },
     "output_type": "display_data"
    }
   ],
   "source": [
    "plt.plot(np.arange(0, EPOCHS), H.history[\"loss\"], label=\"train_loss\");\n",
    "plt.plot(np.arange(0, EPOCHS), H.history[\"val_loss\"], label=\"val_loss\");\n",
    "plt.title(\"Training Loss on Dataset\");\n",
    "plt.xlabel(\"Epoch #\");\n",
    "plt.ylabel(\"Loss\");"
   ]
  },
  {
   "cell_type": "code",
   "execution_count": null,
   "metadata": {
    "id": "7E5vxUlNuK2t"
   },
   "outputs": [],
   "source": [
    "ypred = model.predict(testX)"
   ]
  },
  {
   "cell_type": "code",
   "execution_count": null,
   "metadata": {
    "colab": {
     "base_uri": "https://localhost:8080/",
     "height": 269
    },
    "executionInfo": {
     "elapsed": 767628,
     "status": "ok",
     "timestamp": 1602251238438,
     "user": {
      "displayName": "Ashwin Bala",
      "photoUrl": "https://lh3.googleusercontent.com/a-/AOh14GgcnYip99W9Fjw8EZ28kbCg_p3noiqBMycdIDnvtA=s64",
      "userId": "15060558202235376156"
     },
     "user_tz": -330
    },
    "id": "2LX25cnR3Tcd",
    "outputId": "10bbf695-7ab9-45f0-e8d8-121dd6744a12"
   },
   "outputs": [
    {
     "name": "stdout",
     "output_type": "stream",
     "text": [
      "Classification Report:\n",
      "\n",
      "              precision    recall  f1-score   support\n",
      "\n",
      "           0       0.99      1.00      0.99       864\n",
      "           1       1.00      0.99      0.99       865\n",
      "\n",
      "    accuracy                           0.99      1729\n",
      "   macro avg       0.99      0.99      0.99      1729\n",
      "weighted avg       0.99      0.99      0.99      1729\n",
      "\n",
      "Confusion Matrix:\n",
      "\n",
      "[[863   1]\n",
      " [  8 857]]\n"
     ]
    }
   ],
   "source": [
    "pred = []\n",
    "yp = ypred.reshape(1,-1)[0]\n",
    "thresh = 0.5\n",
    "for val in yp:\n",
    "  if val>thresh:\n",
    "    pred.append(1)\n",
    "  else:\n",
    "    pred.append(0)\n",
    "\n",
    "ypred = np.array(pred).reshape(-1,1)\n",
    "\n",
    "print('Classification Report:\\n')\n",
    "print(classification_report(testY,ypred))\n",
    "print('Confusion Matrix:\\n')\n",
    "print(confusion_matrix(testY,ypred))"
   ]
  }
 ],
 "metadata": {
  "accelerator": "GPU",
  "colab": {
   "collapsed_sections": [],
   "machine_shape": "hm",
   "name": "ResNet50.ipynb",
   "provenance": [
    {
     "file_id": "1GqZu6zmCy2vMNMZqO78DDuHvwv_9vJcp",
     "timestamp": 1602232956994
    },
    {
     "file_id": "1IzPbxNFQmmSYk9s14L4YjBfUgACn9mW2",
     "timestamp": 1593978024316
    },
    {
     "file_id": "1G7NKeneJNyRtcRxLVbbF9jYtRyuTOa-R",
     "timestamp": 1592749700622
    },
    {
     "file_id": "https://github.com/satyajitghana/TSAI-DeepVision-EVA4.0/blob/master/Utils/Colab_25GBRAM_GPU.ipynb",
     "timestamp": 1592043804148
    }
   ]
  },
  "kernelspec": {
   "display_name": "Python 3",
   "language": "python",
   "name": "python3"
  },
  "language_info": {
   "codemirror_mode": {
    "name": "ipython",
    "version": 3
   },
   "file_extension": ".py",
   "mimetype": "text/x-python",
   "name": "python",
   "nbconvert_exporter": "python",
   "pygments_lexer": "ipython3",
   "version": "3.7.9"
  }
 },
 "nbformat": 4,
 "nbformat_minor": 1
}
