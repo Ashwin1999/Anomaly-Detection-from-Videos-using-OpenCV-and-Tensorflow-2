{
 "cells": [
  {
   "cell_type": "code",
   "execution_count": 1,
   "metadata": {
    "colab": {
     "base_uri": "https://localhost:8080/",
     "height": 34
    },
    "executionInfo": {
     "elapsed": 13586,
     "status": "ok",
     "timestamp": 1602257204045,
     "user": {
      "displayName": "Ashwin Bala",
      "photoUrl": "https://lh3.googleusercontent.com/a-/AOh14GgcnYip99W9Fjw8EZ28kbCg_p3noiqBMycdIDnvtA=s64",
      "userId": "15060558202235376156"
     },
     "user_tz": -330
    },
    "id": "tAb77yZ9fzMG",
    "outputId": "a9c9b3a3-7bfe-4c42-fc83-8406cc9c4bc6"
   },
   "outputs": [
    {
     "name": "stdout",
     "output_type": "stream",
     "text": [
      "/device:GPU:0\n"
     ]
    }
   ],
   "source": [
    "import tensorflow as tf\n",
    "\n",
    "device_name = tf.test.gpu_device_name()\n",
    "print(device_name)\n",
    "\n",
    "import pickle\n",
    "from sklearn.preprocessing import LabelBinarizer\n",
    "from sklearn.model_selection import train_test_split\n",
    "from sklearn.metrics import classification_report, confusion_matrix\n",
    "\n",
    "import numpy as np\n",
    "import pandas as pd\n",
    "import matplotlib.pyplot as plt\n",
    "\n",
    "from tensorflow.keras.preprocessing.image import ImageDataGenerator\n",
    "from tensorflow.keras.layers import MaxPooling2D\n",
    "\n",
    "from tensorflow.keras.applications import Xception\n",
    "\n",
    "from tensorflow.keras.layers import Dropout\n",
    "from tensorflow.keras.layers import Flatten\n",
    "from tensorflow.keras.layers import Dense\n",
    "from tensorflow.keras.layers import Input\n",
    "from tensorflow.keras.models import Model\n",
    "from tensorflow.keras.optimizers import SGD, Adam\n",
    "from tensorflow.keras.regularizers import l2\n",
    "\n",
    "import warnings\n",
    "warnings.filterwarnings('ignore')"
   ]
  },
  {
   "cell_type": "code",
   "execution_count": 2,
   "metadata": {
    "colab": {
     "base_uri": "https://localhost:8080/",
     "height": 34
    },
    "executionInfo": {
     "elapsed": 13572,
     "status": "ok",
     "timestamp": 1602257204047,
     "user": {
      "displayName": "Ashwin Bala",
      "photoUrl": "https://lh3.googleusercontent.com/a-/AOh14GgcnYip99W9Fjw8EZ28kbCg_p3noiqBMycdIDnvtA=s64",
      "userId": "15060558202235376156"
     },
     "user_tz": -330
    },
    "id": "UhPHulcLiS9w",
    "outputId": "19261f99-85b1-4c9f-f3ad-1128882858d9"
   },
   "outputs": [
    {
     "name": "stdout",
     "output_type": "stream",
     "text": [
      "Drive already mounted at /content/drive; to attempt to forcibly remount, call drive.mount(\"/content/drive\", force_remount=True).\n"
     ]
    }
   ],
   "source": [
    "from google.colab import drive\n",
    "drive.mount('/content/drive')"
   ]
  },
  {
   "cell_type": "code",
   "execution_count": 3,
   "metadata": {
    "executionInfo": {
     "elapsed": 88722,
     "status": "ok",
     "timestamp": 1602257279210,
     "user": {
      "displayName": "Ashwin Bala",
      "photoUrl": "https://lh3.googleusercontent.com/a-/AOh14GgcnYip99W9Fjw8EZ28kbCg_p3noiqBMycdIDnvtA=s64",
      "userId": "15060558202235376156"
     },
     "user_tz": -330
    },
    "id": "Gg3civ_9iHEY"
   },
   "outputs": [],
   "source": [
    "dp = \"/content/drive/My Drive/Anomaly Detection/Version 2/pickled images and labels/batch1/resized1\"\n",
    "lp = \"/content/drive/My Drive/Anomaly Detection/Version 2/pickled images and labels/batch1/labels1\"\n",
    "\n",
    "data, labels = pickle.loads(open(dp, \"rb\").read()), pickle.loads(open(lp, \"rb\").read())"
   ]
  },
  {
   "cell_type": "code",
   "execution_count": 4,
   "metadata": {
    "executionInfo": {
     "elapsed": 88714,
     "status": "ok",
     "timestamp": 1602257279211,
     "user": {
      "displayName": "Ashwin Bala",
      "photoUrl": "https://lh3.googleusercontent.com/a-/AOh14GgcnYip99W9Fjw8EZ28kbCg_p3noiqBMycdIDnvtA=s64",
      "userId": "15060558202235376156"
     },
     "user_tz": -330
    },
    "id": "pafL7Li0jyXW"
   },
   "outputs": [],
   "source": [
    "le = LabelBinarizer()\n",
    "labels = le.fit_transform(labels)"
   ]
  },
  {
   "cell_type": "code",
   "execution_count": 5,
   "metadata": {
    "executionInfo": {
     "elapsed": 89461,
     "status": "ok",
     "timestamp": 1602257279969,
     "user": {
      "displayName": "Ashwin Bala",
      "photoUrl": "https://lh3.googleusercontent.com/a-/AOh14GgcnYip99W9Fjw8EZ28kbCg_p3noiqBMycdIDnvtA=s64",
      "userId": "15060558202235376156"
     },
     "user_tz": -330
    },
    "id": "lFXHmteyigdV"
   },
   "outputs": [],
   "source": [
    "(trainX, testX, trainY, testY) = train_test_split(data, labels, test_size=0.15, random_state=42, shuffle=True)"
   ]
  },
  {
   "cell_type": "code",
   "execution_count": 6,
   "metadata": {
    "executionInfo": {
     "elapsed": 89454,
     "status": "ok",
     "timestamp": 1602257279970,
     "user": {
      "displayName": "Ashwin Bala",
      "photoUrl": "https://lh3.googleusercontent.com/a-/AOh14GgcnYip99W9Fjw8EZ28kbCg_p3noiqBMycdIDnvtA=s64",
      "userId": "15060558202235376156"
     },
     "user_tz": -330
    },
    "id": "Vh2Q9pOfilg_"
   },
   "outputs": [],
   "source": [
    "trainAug = ImageDataGenerator(\n",
    "    rotation_range=20,\n",
    "    zoom_range=0.10,\n",
    "    shear_range=0.10,\n",
    "    horizontal_flip=True,\n",
    ")\n",
    "\n",
    "valAug = ImageDataGenerator()"
   ]
  },
  {
   "cell_type": "code",
   "execution_count": 7,
   "metadata": {
    "executionInfo": {
     "elapsed": 93371,
     "status": "ok",
     "timestamp": 1602257283894,
     "user": {
      "displayName": "Ashwin Bala",
      "photoUrl": "https://lh3.googleusercontent.com/a-/AOh14GgcnYip99W9Fjw8EZ28kbCg_p3noiqBMycdIDnvtA=s64",
      "userId": "15060558202235376156"
     },
     "user_tz": -330
    },
    "id": "rS0xu-wrimOz"
   },
   "outputs": [],
   "source": [
    "baseModel = Xception(weights=\"imagenet\", include_top=False, input_tensor=Input(shape=(240, 320, 3)))\n",
    "\n",
    "headModel = baseModel.output\n",
    "\n",
    "headModel = MaxPooling2D(pool_size=(7, 7),)(headModel)\n",
    "\n",
    "headModel = Flatten(name=\"flatten\")(headModel)\n",
    "\n",
    "headModel = Dense(512, kernel_regularizer=l2(0.0001), activation=\"relu\")(headModel)\n",
    "headModel = Dropout(0.5)(headModel)\n",
    "\n",
    "headModel = Dense(1, activation=\"sigmoid\")(headModel)\n",
    "\n",
    "model = Model(inputs=baseModel.input, outputs=headModel)\n",
    "\n",
    "for layer in baseModel.layers:\n",
    "    layer.trainable = False"
   ]
  },
  {
   "cell_type": "code",
   "execution_count": 8,
   "metadata": {
    "colab": {
     "base_uri": "https://localhost:8080/",
     "height": 218
    },
    "executionInfo": {
     "elapsed": 794588,
     "status": "ok",
     "timestamp": 1602257985134,
     "user": {
      "displayName": "Ashwin Bala",
      "photoUrl": "https://lh3.googleusercontent.com/a-/AOh14GgcnYip99W9Fjw8EZ28kbCg_p3noiqBMycdIDnvtA=s64",
      "userId": "15060558202235376156"
     },
     "user_tz": -330
    },
    "id": "E01OZLx9iq6c",
    "outputId": "afcbbbad-835f-405e-e709-314ed68f2464"
   },
   "outputs": [
    {
     "name": "stdout",
     "output_type": "stream",
     "text": [
      "[INFO] compiling model...\n",
      "[INFO] training head...\n",
      "Epoch 1/5\n",
      "76/76 [==============================] - 135s 2s/step - loss: 2.9664 - accuracy: 0.6484 - val_loss: 1.1786 - val_accuracy: 0.8149\n",
      "Epoch 2/5\n",
      "76/76 [==============================] - 135s 2s/step - loss: 1.4142 - accuracy: 0.7500 - val_loss: 0.4994 - val_accuracy: 0.8726\n",
      "Epoch 3/5\n",
      "76/76 [==============================] - 137s 2s/step - loss: 0.8759 - accuracy: 0.7972 - val_loss: 0.3686 - val_accuracy: 0.8798\n",
      "Epoch 4/5\n",
      "76/76 [==============================] - 136s 2s/step - loss: 0.6044 - accuracy: 0.8311 - val_loss: 0.4048 - val_accuracy: 0.8750\n",
      "Epoch 5/5\n",
      "76/76 [==============================] - 135s 2s/step - loss: 0.4775 - accuracy: 0.8532 - val_loss: 0.3233 - val_accuracy: 0.8870\n"
     ]
    }
   ],
   "source": [
    "BS = 128\n",
    "EPOCHS = 5\n",
    "\n",
    "print(\"[INFO] compiling model...\")\n",
    "# opt = SGD(lr=0.0001, momentum=0.7)\n",
    "opt = Adam(lr=0.0001)\n",
    "model.compile(loss=\"binary_crossentropy\", optimizer=opt, metrics=[\"accuracy\"])\n",
    "\n",
    "print(\"[INFO] training head...\")\n",
    "\n",
    "H = model.fit(\n",
    "    x=trainAug.flow(trainX, trainY, batch_size=BS),\n",
    "    steps_per_epoch=len(trainX) // BS,\n",
    "    validation_data=valAug.flow(testX, testY),\n",
    "    validation_steps=len(testX) // BS,\n",
    "    epochs=EPOCHS\n",
    ")"
   ]
  },
  {
   "cell_type": "code",
   "execution_count": 9,
   "metadata": {
    "executionInfo": {
     "elapsed": 794978,
     "status": "ok",
     "timestamp": 1602257985535,
     "user": {
      "displayName": "Ashwin Bala",
      "photoUrl": "https://lh3.googleusercontent.com/a-/AOh14GgcnYip99W9Fjw8EZ28kbCg_p3noiqBMycdIDnvtA=s64",
      "userId": "15060558202235376156"
     },
     "user_tz": -330
    },
    "id": "QwgX3nP8jArr"
   },
   "outputs": [],
   "source": [
    "name = 'model_weights.h5'\n",
    "\n",
    "model.save_weights(name)"
   ]
  },
  {
   "cell_type": "code",
   "execution_count": 10,
   "metadata": {
    "colab": {
     "base_uri": "https://localhost:8080/",
     "height": 295
    },
    "executionInfo": {
     "elapsed": 794972,
     "status": "ok",
     "timestamp": 1602257985536,
     "user": {
      "displayName": "Ashwin Bala",
      "photoUrl": "https://lh3.googleusercontent.com/a-/AOh14GgcnYip99W9Fjw8EZ28kbCg_p3noiqBMycdIDnvtA=s64",
      "userId": "15060558202235376156"
     },
     "user_tz": -330
    },
    "id": "e6mxQe65o5vN",
    "outputId": "6e8d7ab7-faa9-475f-ed37-09442fded926"
   },
   "outputs": [
    {
     "data": {
      "image/png": "[encoded data removed]",
      "text/plain": [
       "<Figure size 432x288 with 1 Axes>"
      ]
     },
     "metadata": {
      "needs_background": "light",
      "tags": []
     },
     "output_type": "display_data"
    }
   ],
   "source": [
    "plt.plot(np.arange(0, EPOCHS), H.history[\"accuracy\"], label=\"train_acc\");\n",
    "plt.plot(np.arange(0, EPOCHS), H.history[\"val_accuracy\"], label=\"val_acc\");\n",
    "plt.title(\"Training Accuracy on Dataset\");\n",
    "plt.xlabel(\"Epoch #\");\n",
    "plt.ylabel(\"Accuracy\");"
   ]
  },
  {
   "cell_type": "code",
   "execution_count": 11,
   "metadata": {
    "colab": {
     "base_uri": "https://localhost:8080/",
     "height": 295
    },
    "executionInfo": {
     "elapsed": 795355,
     "status": "ok",
     "timestamp": 1602257985927,
     "user": {
      "displayName": "Ashwin Bala",
      "photoUrl": "https://lh3.googleusercontent.com/a-/AOh14GgcnYip99W9Fjw8EZ28kbCg_p3noiqBMycdIDnvtA=s64",
      "userId": "15060558202235376156"
     },
     "user_tz": -330
    },
    "id": "Cye2VBietzx3",
    "outputId": "0f8a7dd9-0145-4c1e-84ba-055a7db6f1de"
   },
   "outputs": [
    {
     "data": {
      "image/png": "[encoded data removed]",
      "text/plain": [
       "<Figure size 432x288 with 1 Axes>"
      ]
     },
     "metadata": {
      "needs_background": "light",
      "tags": []
     },
     "output_type": "display_data"
    }
   ],
   "source": [
    "plt.plot(np.arange(0, EPOCHS), H.history[\"loss\"], label=\"train_loss\");\n",
    "plt.plot(np.arange(0, EPOCHS), H.history[\"val_loss\"], label=\"val_loss\");\n",
    "plt.title(\"Training Loss on Dataset\");\n",
    "plt.xlabel(\"Epoch #\");\n",
    "plt.ylabel(\"Loss\");"
   ]
  },
  {
   "cell_type": "code",
   "execution_count": 12,
   "metadata": {
    "executionInfo": {
     "elapsed": 802121,
     "status": "ok",
     "timestamp": 1602257992703,
     "user": {
      "displayName": "Ashwin Bala",
      "photoUrl": "https://lh3.googleusercontent.com/a-/AOh14GgcnYip99W9Fjw8EZ28kbCg_p3noiqBMycdIDnvtA=s64",
      "userId": "15060558202235376156"
     },
     "user_tz": -330
    },
    "id": "7E5vxUlNuK2t"
   },
   "outputs": [],
   "source": [
    "ypred = model.predict(testX)"
   ]
  },
  {
   "cell_type": "code",
   "execution_count": 13,
   "metadata": {
    "colab": {
     "base_uri": "https://localhost:8080/",
     "height": 269
    },
    "executionInfo": {
     "elapsed": 802112,
     "status": "ok",
     "timestamp": 1602257992705,
     "user": {
      "displayName": "Ashwin Bala",
      "photoUrl": "https://lh3.googleusercontent.com/a-/AOh14GgcnYip99W9Fjw8EZ28kbCg_p3noiqBMycdIDnvtA=s64",
      "userId": "15060558202235376156"
     },
     "user_tz": -330
    },
    "id": "2LX25cnR3Tcd",
    "outputId": "0df8c8c7-d2a8-4ecf-ed15-39595e233199"
   },
   "outputs": [
    {
     "name": "stdout",
     "output_type": "stream",
     "text": [
      "Classification Report:\n",
      "\n",
      "              precision    recall  f1-score   support\n",
      "\n",
      "           0       0.90      0.89      0.90       864\n",
      "           1       0.89      0.90      0.90       865\n",
      "\n",
      "    accuracy                           0.90      1729\n",
      "   macro avg       0.90      0.90      0.90      1729\n",
      "weighted avg       0.90      0.90      0.90      1729\n",
      "\n",
      "Confusion Matrix:\n",
      "\n",
      "[[771  93]\n",
      " [ 86 779]]\n"
     ]
    }
   ],
   "source": [
    "pred = []\n",
    "yp = ypred.reshape(1,-1)[0]\n",
    "thresh = 0.5\n",
    "for val in yp:\n",
    "  if val>thresh:\n",
    "    pred.append(1)\n",
    "  else:\n",
    "    pred.append(0)\n",
    "\n",
    "ypred = np.array(pred).reshape(-1,1)\n",
    "\n",
    "print('Classification Report:\\n')\n",
    "print(classification_report(testY,ypred))\n",
    "print('Confusion Matrix:\\n')\n",
    "print(confusion_matrix(testY,ypred))"
   ]
  }
 ],
 "metadata": {
  "accelerator": "GPU",
  "colab": {
   "collapsed_sections": [],
   "machine_shape": "hm",
   "name": "Xception.ipynb",
   "provenance": [
    {
     "file_id": "1GqZu6zmCy2vMNMZqO78DDuHvwv_9vJcp",
     "timestamp": 1602232956994
    },
    {
     "file_id": "1IzPbxNFQmmSYk9s14L4YjBfUgACn9mW2",
     "timestamp": 1593978024316
    },
    {
     "file_id": "1G7NKeneJNyRtcRxLVbbF9jYtRyuTOa-R",
     "timestamp": 1592749700622
    },
    {
     "file_id": "https://github.com/satyajitghana/TSAI-DeepVision-EVA4.0/blob/master/Utils/Colab_25GBRAM_GPU.ipynb",
     "timestamp": 1592043804148
    }
   ]
  },
  "kernelspec": {
   "display_name": "Python 3",
   "language": "python",
   "name": "python3"
  },
  "language_info": {
   "codemirror_mode": {
    "name": "ipython",
    "version": 3
   },
   "file_extension": ".py",
   "mimetype": "text/x-python",
   "name": "python",
   "nbconvert_exporter": "python",
   "pygments_lexer": "ipython3",
   "version": "3.7.9"
  }
 },
 "nbformat": 4,
 "nbformat_minor": 1
}
