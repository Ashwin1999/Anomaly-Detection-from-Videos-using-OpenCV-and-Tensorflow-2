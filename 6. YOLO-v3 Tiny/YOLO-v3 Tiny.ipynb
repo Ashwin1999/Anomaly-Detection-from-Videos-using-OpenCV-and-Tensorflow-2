{
 "cells": [
  {
   "cell_type": "code",
   "execution_count": 1,
   "metadata": {
    "ExecuteTime": {
     "end_time": "2021-05-10T13:35:32.824493Z",
     "start_time": "2021-05-10T13:35:32.636491Z"
    },
    "code_folding": [
     56
    ]
   },
   "outputs": [],
   "source": [
    "import cv2\n",
    "import numpy as np\n",
    "import time\n",
    "import os\n",
    "\n",
    "ROOT = \".\\crime videos\"\n",
    "videos = os.listdir(\"./crime videos\")\n",
    "\n",
    "net = cv2.dnn.readNet(\"yolov3-tiny.weights\",\"yolov3-tiny.cfg\")\n",
    "\n",
    "classes = []\n",
    "with open(\"./coco.names\",\"r\") as f:\n",
    "    classes = [line.strip() for line in f.readlines()]"
   ]
  },
  {
   "cell_type": "code",
   "execution_count": 2,
   "metadata": {
    "ExecuteTime": {
     "end_time": "2021-05-10T13:35:32.840492Z",
     "start_time": "2021-05-10T13:35:32.828492Z"
    }
   },
   "outputs": [],
   "source": [
    "def loadVideo(sno):\n",
    "    return os.path.join(ROOT, videos[sno-1])\n",
    "\n",
    "video = loadVideo(1)"
   ]
  },
  {
   "cell_type": "code",
   "execution_count": 3,
   "metadata": {
    "ExecuteTime": {
     "end_time": "2021-05-10T13:35:36.922473Z",
     "start_time": "2021-05-10T13:35:32.843492Z"
    }
   },
   "outputs": [],
   "source": [
    "layer_names = net.getLayerNames()\n",
    "outputlayers = [layer_names[i[0] - 1] for i in net.getUnconnectedOutLayers()]\n",
    "\n",
    "\n",
    "colors= np.random.uniform(0,255,size=(len(classes),3))\n",
    "\n",
    "cap=cv2.VideoCapture(video)\n",
    "\n",
    "while True:\n",
    "    data = \"Human Detection: False\"\n",
    "    ret,frame= cap.read() \n",
    "    \n",
    "    if ret==True:\n",
    "        height,width,channels = frame.shape\n",
    "        blob = cv2.dnn.blobFromImage(frame,0.00392,(320,320),(0,0,0),True,crop=False)    \n",
    "\n",
    "        net.setInput(blob)\n",
    "        outs = net.forward(outputlayers)\n",
    "\n",
    "        class_ids=[]\n",
    "        confidences=[]\n",
    "        boxes=[]\n",
    "\n",
    "        for out in outs:\n",
    "            for detection in out:\n",
    "                scores = detection[5:]\n",
    "                class_id = np.argmax(scores)\n",
    "                confidence = scores[class_id]\n",
    "                \n",
    "                # could modify this to meet your requirements\n",
    "                if confidence > 0.5:\n",
    "                    #object detected\n",
    "                    center_x= int(detection[0]*width)\n",
    "                    center_y= int(detection[1]*height)\n",
    "                    w = int(detection[2]*width)\n",
    "                    h = int(detection[3]*height)\n",
    "\n",
    "                    #rectangle co-ordinaters\n",
    "                    x=int(center_x - w/2)\n",
    "                    y=int(center_y - h/2)\n",
    "\n",
    "                    boxes.append([x,y,w,h])\n",
    "                    confidences.append(float(confidence))\n",
    "                    class_ids.append(class_id)\n",
    "\n",
    "        indexes = cv2.dnn.NMSBoxes(boxes,confidences,0.4,0.6)\n",
    "        \n",
    "        for i in range(len(boxes)):\n",
    "            if i in indexes:\n",
    "                label = str(classes[class_ids[i]])\n",
    "                confidence= confidences[i]\n",
    "                \n",
    "                if label==\"person\":\n",
    "                    x,y,w,h = boxes[i]\n",
    "                    data = \"Human Detection: True\"\n",
    "                    \n",
    "                    # Custom code to do miscellaneous tasks (like predicting anomalies) can go down here\n",
    "                    \n",
    "                    # Custom code ends\n",
    "                \n",
    "                color = colors[class_ids[i]]\n",
    "                cv2.rectangle(frame,(x,y),(x+w,y+h),color,2)\n",
    "                cv2.putText(frame,label+\":\"+str(round(confidence,2)), (x, y-10), cv2.FONT_HERSHEY_SIMPLEX,0.4,(255,255,255),2)\n",
    "                \n",
    "        cv2.putText(frame, data, (0,20), cv2.FONT_HERSHEY_SIMPLEX, 0.4, (106, 0, 0), 2)\n",
    "\n",
    "        cv2.imshow(\"Image\",frame)\n",
    "        key = cv2.waitKey(1)\n",
    "\n",
    "        if cv2.waitKey(1) & 0xFF==ord('q'):\n",
    "            break\n",
    "    \n",
    "    else:\n",
    "        break\n",
    "\n",
    "        \n",
    "\n",
    "cap.release()\n",
    "cv2.destroyAllWindows()"
   ]
  },
  {
   "cell_type": "code",
   "execution_count": null,
   "metadata": {},
   "outputs": [],
   "source": []
  }
 ],
 "metadata": {
  "kernelspec": {
   "display_name": "Python 3",
   "language": "python",
   "name": "python3"
  },
  "language_info": {
   "codemirror_mode": {
    "name": "ipython",
    "version": 3
   },
   "file_extension": ".py",
   "mimetype": "text/x-python",
   "name": "python",
   "nbconvert_exporter": "python",
   "pygments_lexer": "ipython3",
   "version": "3.8.5"
  },
  "toc": {
   "base_numbering": 1,
   "nav_menu": {},
   "number_sections": false,
   "sideBar": true,
   "skip_h1_title": false,
   "title_cell": "Table of Contents",
   "title_sidebar": "Contents",
   "toc_cell": false,
   "toc_position": {},
   "toc_section_display": true,
   "toc_window_display": false
  }
 },
 "nbformat": 4,
 "nbformat_minor": 4
}
