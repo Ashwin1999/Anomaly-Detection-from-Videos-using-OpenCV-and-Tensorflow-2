{
 "cells": [
  {
   "cell_type": "code",
   "execution_count": 1,
   "metadata": {},
   "outputs": [],
   "source": [
    "import cv2"
   ]
  },
  {
   "cell_type": "markdown",
   "metadata": {},
   "source": [
    "# Recording from Web Camera"
   ]
  },
  {
   "cell_type": "code",
   "execution_count": 2,
   "metadata": {},
   "outputs": [],
   "source": [
    "# the first web camera connected to your pc\n",
    "cap = cv2.VideoCapture(0)\n",
    "# if more you have two web cameras and want to use the second camera for recording, use cv2.VideoCapture(1)\n",
    "\n",
    "# Frame width and height\n",
    "wnh = (int(cap.get(cv2.CAP_PROP_FRAME_WIDTH)), int(cap.get(cv2.CAP_PROP_FRAME_HEIGHT)))\n",
    "\n",
    "# fps of camera used for recording\n",
    "fps = 30\n",
    "\n",
    "# videoWriter - for saving image\n",
    "# codec for windows is DIVX.\n",
    "# if your a mac or ubuntu user use XVID\n",
    "writer = cv2.VideoWriter(f'myVideo.mp4', cv2.VideoWriter_fourcc(*'DIVX'), 30, wnh)\n",
    "\n",
    "while True:\n",
    "    ret, frame = cap.read()\n",
    "    \n",
    "    # frame color conversion (optional)\n",
    "    target_color = cv2.COLOR_BGR2RGB\n",
    "    RGB = cv2.cvtColor(frame, target_color)\n",
    "    \n",
    "    # We append frame to our file.\n",
    "    writer.write(frame)\n",
    "    \n",
    "    # if you want to append the RGB frames, instead of the default BGR frames, use the code below\n",
    "    # writer.write(RGB)\n",
    "    \n",
    "    # feedback\n",
    "    cv2.imshow('myFrame',frame)\n",
    "    \n",
    "    # if you want to quit, press 'q'\n",
    "    if cv2.waitKey(1) & 0xFF==ord('q'):\n",
    "        break\n",
    "\n",
    "cap.release()\n",
    "writer.release()\n",
    "cv2.destroyAllWindows()"
   ]
  },
  {
   "cell_type": "markdown",
   "metadata": {},
   "source": [
    "# Opening .mp4 video files"
   ]
  },
  {
   "cell_type": "code",
   "execution_count": 3,
   "metadata": {},
   "outputs": [],
   "source": [
    "import time"
   ]
  },
  {
   "cell_type": "code",
   "execution_count": 4,
   "metadata": {},
   "outputs": [],
   "source": [
    "cap = cv2.VideoCapture(\"video.mp4\")\n",
    "\n",
    "if cap.isOpened()==False:\n",
    "    print(\"Either file not found or wrong codec used\")\n",
    "\n",
    "# number of frames per second\n",
    "fps = 60\n",
    "\n",
    "while cap.isOpened():\n",
    "    ret, frame = cap.read()\n",
    "    \n",
    "    # if something is returned\n",
    "    if ret==True:\n",
    "        # frame color conversion (optional)\n",
    "        target_color = cv2.COLOR_BGR2GRAY\n",
    "        frame = cv2.cvtColor(frame, target_color)\n",
    "        \n",
    "        # sleep for 1/fps sec between frames so the video is displayed at the right fps for viewing\n",
    "        time.sleep(1/fps)\n",
    "        \n",
    "        # feedback\n",
    "        cv2.imshow('frame',frame)\n",
    "    \n",
    "        # if you want to quit, press 'q'\n",
    "        if cv2.waitKey(1) & 0xFF==ord('q'):\n",
    "            break\n",
    "    \n",
    "    # if nothing is returned, break out of the loop\n",
    "    else:\n",
    "        break\n",
    "\n",
    "cap.release()\n",
    "writer.release()\n",
    "cv2.destroyAllWindows()"
   ]
  },
  {
   "cell_type": "code",
   "execution_count": null,
   "metadata": {},
   "outputs": [],
   "source": []
  }
 ],
 "metadata": {
  "kernelspec": {
   "display_name": "Python 3",
   "language": "python",
   "name": "python3"
  },
  "language_info": {
   "codemirror_mode": {
    "name": "ipython",
    "version": 3
   },
   "file_extension": ".py",
   "mimetype": "text/x-python",
   "name": "python",
   "nbconvert_exporter": "python",
   "pygments_lexer": "ipython3",
   "version": "3.7.6"
  }
 },
 "nbformat": 4,
 "nbformat_minor": 4
}
